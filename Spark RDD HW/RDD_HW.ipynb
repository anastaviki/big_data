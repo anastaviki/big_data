{
 "cells": [
  {
   "cell_type": "code",
   "execution_count": 68,
   "id": "947c11b7-9350-4c0c-91ce-14467c75b3a7",
   "metadata": {},
   "outputs": [],
   "source": [
    "from pyspark.sql import SparkSession\n",
    "import datetime\n",
    "import os"
   ]
  },
  {
   "cell_type": "code",
   "execution_count": 69,
   "id": "07f8d3c8-bcba-4c25-82b5-29a16bbb3b75",
   "metadata": {},
   "outputs": [],
   "source": [
    "spark = SparkSession.builder.appName(\"Spark: RDD_HW\").config(\"spark.app.name\", \"Spark: RDD_HW\").getOrCreate()\n",
    "sc = spark.sparkContext"
   ]
  },
  {
   "cell_type": "markdown",
   "id": "912fdfb0-506c-4f9d-8ca5-82bb83b39340",
   "metadata": {},
   "source": [
    "2.1. Please upload data from sellers.csv into sellers_rdd variable. Use the textFile method with map function: \r\n",
    "sc.textFile(<your_path>).map(lambda x: x.split(\",\")\r\n"
   ]
  },
  {
   "cell_type": "code",
   "execution_count": 70,
   "id": "568dfb12-b8c8-48d2-ba2d-1b7459b42d37",
   "metadata": {},
   "outputs": [],
   "source": [
    "current_directory = os.getcwd()\n",
    "relative_path = os.path.join(current_directory, 'RDD_HW')\n",
    "file_path = relative_path +'/sellers.csv'\n",
    "sellers_rdd = sc.textFile(file_path).map(lambda x: x.split(\",\"))"
   ]
  },
  {
   "cell_type": "markdown",
   "id": "903f09ee-0613-44ff-8cf4-a6784207ee92",
   "metadata": {},
   "source": [
    "2.2. Take first 10 elements of sellers_rdd"
   ]
  },
  {
   "cell_type": "code",
   "execution_count": 71,
   "id": "19c168bc-c670-471d-a7c1-ca74028f0809",
   "metadata": {},
   "outputs": [
    {
     "name": "stdout",
     "output_type": "stream",
     "text": [
      "['seller_id', 'seller_name', 'daily_target']\n",
      "['0', 'seller_0', '100000']\n",
      "['1', 'seller_1', '83478']\n",
      "['2', 'seller_2', '94114']\n",
      "['3', 'seller_3', '50299']\n",
      "['4', 'seller_4', '72654']\n",
      "['5', 'seller_5', '28862']\n",
      "['6', 'seller_6', '61878']\n",
      "['7', 'seller_7', '72047']\n",
      "['8', 'seller_8', '54715']\n"
     ]
    }
   ],
   "source": [
    "data = sellers_rdd.take(10)\n",
    "for line in data:\n",
    "    print(line)"
   ]
  },
  {
   "cell_type": "markdown",
   "id": "fbbbec91-19f2-4c2b-a5a4-141f52a4dcaf",
   "metadata": {},
   "source": [
    "2.3. Save the first element of sellers_rdd into sellers_rdd_header variable"
   ]
  },
  {
   "cell_type": "code",
   "execution_count": 72,
   "id": "a27db210-300a-47a0-87b0-9a15953cb4dc",
   "metadata": {},
   "outputs": [
    {
     "name": "stdout",
     "output_type": "stream",
     "text": [
      "Header: ['seller_id', 'seller_name', 'daily_target']\n"
     ]
    }
   ],
   "source": [
    "sellers_rdd_header = sellers_rdd.first()\n",
    "print(f\"Header: {sellers_rdd_header}\")"
   ]
  },
  {
   "cell_type": "markdown",
   "id": "d9a6c9ef-63aa-4ed0-b51b-51f003a63e58",
   "metadata": {},
   "source": [
    "2.4. Filter the sellers_rdd excluding the sellers_rdd_header value, and reassign it to sellers_rdd. Hint: use the != operator. Now sellers_rdd shouldn’t contain a header."
   ]
  },
  {
   "cell_type": "code",
   "execution_count": 73,
   "id": "5c7b0d20-283f-4def-8778-316a22c928c7",
   "metadata": {},
   "outputs": [
    {
     "name": "stdout",
     "output_type": "stream",
     "text": [
      "['0', 'seller_0', '100000']\n",
      "['1', 'seller_1', '83478']\n",
      "['2', 'seller_2', '94114']\n",
      "['3', 'seller_3', '50299']\n",
      "['4', 'seller_4', '72654']\n",
      "['5', 'seller_5', '28862']\n",
      "['6', 'seller_6', '61878']\n",
      "['7', 'seller_7', '72047']\n",
      "['8', 'seller_8', '54715']\n",
      "['9', 'seller_9', '82824']\n"
     ]
    }
   ],
   "source": [
    "sellers_rdd = sellers_rdd.filter(lambda x: x != sellers_rdd_header)\n",
    "data = sellers_rdd.take(10)\n",
    "for line in data:\n",
    "    print(line)"
   ]
  },
  {
   "cell_type": "markdown",
   "id": "84034bbe-c21d-4e59-b4cd-8e19371987a3",
   "metadata": {},
   "source": [
    "2.5.1. Take top 3 elements of sellers_rdd in descending order."
   ]
  },
  {
   "cell_type": "code",
   "execution_count": 74,
   "id": "73901adc-3e64-42d8-be8f-d01d9e826b50",
   "metadata": {},
   "outputs": [
    {
     "name": "stdout",
     "output_type": "stream",
     "text": [
      "Top 3 elements in descending order:\n",
      "['9', 'seller_9', '82824']\n",
      "['8', 'seller_8', '54715']\n",
      "['7', 'seller_7', '72047']\n"
     ]
    }
   ],
   "source": [
    "top_3_descending = sellers_rdd.sortBy(lambda x: -int(x[0])).take(3)\n",
    "print(\"Top 3 elements in descending order:\")\n",
    "for item in top_3_descending:\n",
    "    print(item)"
   ]
  },
  {
   "cell_type": "markdown",
   "id": "a16ca470-a058-416e-8781-5882e3ba1d49",
   "metadata": {},
   "source": [
    "2.5.2. Take top 3 elements of sellers_rdd in ascending order."
   ]
  },
  {
   "cell_type": "code",
   "execution_count": 75,
   "id": "a39b112e-ef7d-4ad3-b314-0156292dac60",
   "metadata": {},
   "outputs": [
    {
     "name": "stdout",
     "output_type": "stream",
     "text": [
      "Top 3 elements in ascending order:\n",
      "['0', 'seller_0', '100000']\n",
      "['1', 'seller_1', '83478']\n",
      "['2', 'seller_2', '94114']\n"
     ]
    }
   ],
   "source": [
    "top_3_ascending =  sellers_rdd.sortBy(lambda x: int(x[0])).take(3)\n",
    "print(\"Top 3 elements in ascending order:\")\n",
    "for item in top_3_ascending:\n",
    "    print(item)"
   ]
  },
  {
   "cell_type": "markdown",
   "id": "1276cea0-cd3d-4ae6-b092-c2e73e4b69b5",
   "metadata": {},
   "source": [
    "2.6. Get a number of partitions of sellers_rdd."
   ]
  },
  {
   "cell_type": "code",
   "execution_count": 76,
   "id": "20e5216d-5440-4cce-b923-78c396bac226",
   "metadata": {},
   "outputs": [
    {
     "name": "stdout",
     "output_type": "stream",
     "text": [
      "Number of partitions: 2\n"
     ]
    }
   ],
   "source": [
    "num_partitions = sellers_rdd.getNumPartitions()\n",
    "print(f\"Number of partitions: {num_partitions}\")"
   ]
  },
  {
   "cell_type": "markdown",
   "id": "0e8dd2f5-a316-47a6-a219-a26e0b10ff7c",
   "metadata": {},
   "source": [
    "3.1. Please create the calendar_rdd variable containing years starting from 1970 to 2099 using parallelized collections. "
   ]
  },
  {
   "cell_type": "code",
   "execution_count": 77,
   "id": "99fcabdc-ea2c-42d4-ad74-76604a02ab9f",
   "metadata": {},
   "outputs": [
    {
     "name": "stdout",
     "output_type": "stream",
     "text": [
      "Calendar RDD: [1970, 1971, 1972, 1973, 1974, 1975, 1976, 1977, 1978, 1979, 1980, 1981, 1982, 1983, 1984, 1985, 1986, 1987, 1988, 1989, 1990, 1991, 1992, 1993, 1994, 1995, 1996, 1997, 1998, 1999, 2000, 2001, 2002, 2003, 2004, 2005, 2006, 2007, 2008, 2009, 2010, 2011, 2012, 2013, 2014, 2015, 2016, 2017, 2018, 2019, 2020, 2021, 2022, 2023, 2024, 2025, 2026, 2027, 2028, 2029, 2030, 2031, 2032, 2033, 2034, 2035, 2036, 2037, 2038, 2039, 2040, 2041, 2042, 2043, 2044, 2045, 2046, 2047, 2048, 2049, 2050, 2051, 2052, 2053, 2054, 2055, 2056, 2057, 2058, 2059, 2060, 2061, 2062, 2063, 2064, 2065, 2066, 2067, 2068, 2069, 2070, 2071, 2072, 2073, 2074, 2075, 2076, 2077, 2078, 2079, 2080, 2081, 2082, 2083, 2084, 2085, 2086, 2087, 2088, 2089, 2090, 2091, 2092, 2093, 2094, 2095, 2096, 2097, 2098, 2099]\n"
     ]
    }
   ],
   "source": [
    "calendar_rdd = sc.parallelize(range(1970, 2100))\n",
    "print(\"Calendar RDD:\", calendar_rdd.collect())"
   ]
  },
  {
   "cell_type": "markdown",
   "id": "b2d4b173-8c0e-4c3e-8b0c-4a0ef1a9e975",
   "metadata": {},
   "source": [
    "3.2. Filter the calendar_rdd data containing only coming years (2022, 2023..) and save it to the calendar_coming_years_rdd variable. Please don’t hardcode the current year, use Python code to generate it automatically."
   ]
  },
  {
   "cell_type": "code",
   "execution_count": 78,
   "id": "9ffbc290-dcc6-438d-9345-37c395be691a",
   "metadata": {},
   "outputs": [
    {
     "name": "stdout",
     "output_type": "stream",
     "text": [
      "Coming Years RDD: [2024, 2025, 2026, 2027, 2028, 2029, 2030, 2031, 2032, 2033, 2034, 2035, 2036, 2037, 2038, 2039, 2040, 2041, 2042, 2043, 2044, 2045, 2046, 2047, 2048, 2049, 2050, 2051, 2052, 2053, 2054, 2055, 2056, 2057, 2058, 2059, 2060, 2061, 2062, 2063, 2064, 2065, 2066, 2067, 2068, 2069, 2070, 2071, 2072, 2073, 2074, 2075, 2076, 2077, 2078, 2079, 2080, 2081, 2082, 2083, 2084, 2085, 2086, 2087, 2088, 2089, 2090, 2091, 2092, 2093, 2094, 2095, 2096, 2097, 2098, 2099]\n"
     ]
    }
   ],
   "source": [
    "current_year = datetime.datetime.now().year \n",
    "calendar_coming_years_rdd = calendar_rdd.filter(lambda year: year > current_year)\n",
    "print(\"Coming Years RDD:\", calendar_coming_years_rdd.collect())"
   ]
  },
  {
   "cell_type": "markdown",
   "id": "06afc706-2485-4f7d-9272-f5844402a793",
   "metadata": {},
   "source": [
    "3.3. Filter the calendar_rdd data containing only leap years (1972…2000…2016, 2020, 2024, …) and save it to the calendar_leap_years_rdd variable."
   ]
  },
  {
   "cell_type": "code",
   "execution_count": 79,
   "id": "061a3880-aa10-4460-8aa4-05e80b574f32",
   "metadata": {},
   "outputs": [
    {
     "name": "stdout",
     "output_type": "stream",
     "text": [
      "Leap Years RDD: [1972, 1976, 1980, 1984, 1988, 1992, 1996, 2000, 2004, 2008, 2012, 2016, 2020, 2024, 2028, 2032, 2036, 2040, 2044, 2048, 2052, 2056, 2060, 2064, 2068, 2072, 2076, 2080, 2084, 2088, 2092, 2096]\n"
     ]
    }
   ],
   "source": [
    "calendar_leap_years_rdd = calendar_rdd.filter(lambda year: year % 4 == 0 and (year % 100 != 0 or year % 400 == 0))\n",
    "print(\"Leap Years RDD:\", calendar_leap_years_rdd.collect())"
   ]
  },
  {
   "cell_type": "markdown",
   "id": "3c7f8d73-e5ab-4659-a2d7-18365fc78fa4",
   "metadata": {},
   "source": [
    "3.4. Create calendar_not_leap_years_rdd using some of SET operator and calendar_rdd and calendar_leap_years_rdd. It should contain all not leap years. Sort all values in ascending order and collect them."
   ]
  },
  {
   "cell_type": "code",
   "execution_count": 80,
   "id": "bc35d470-f23b-40a2-8585-1ed66f92937e",
   "metadata": {},
   "outputs": [
    {
     "name": "stdout",
     "output_type": "stream",
     "text": [
      "Not Leap Years RDD: [1970, 1971, 1973, 1974, 1975, 1977, 1978, 1979, 1981, 1982, 1983, 1985, 1986, 1987, 1989, 1990, 1991, 1993, 1994, 1995, 1997, 1998, 1999, 2001, 2002, 2003, 2005, 2006, 2007, 2009, 2010, 2011, 2013, 2014, 2015, 2017, 2018, 2019, 2021, 2022, 2023, 2025, 2026, 2027, 2029, 2030, 2031, 2033, 2034, 2035, 2037, 2038, 2039, 2041, 2042, 2043, 2045, 2046, 2047, 2049, 2050, 2051, 2053, 2054, 2055, 2057, 2058, 2059, 2061, 2062, 2063, 2065, 2066, 2067, 2069, 2070, 2071, 2073, 2074, 2075, 2077, 2078, 2079, 2081, 2082, 2083, 2085, 2086, 2087, 2089, 2090, 2091, 2093, 2094, 2095, 2097, 2098, 2099]\n"
     ]
    }
   ],
   "source": [
    "calendar_not_leap_years_rdd = calendar_rdd.subtract(calendar_leap_years_rdd).sortBy(lambda year: year)\n",
    "print(\"Not Leap Years RDD:\", calendar_not_leap_years_rdd.collect())"
   ]
  },
  {
   "cell_type": "markdown",
   "id": "9b01b316-94c8-41b4-b0a3-081b660beb43",
   "metadata": {},
   "source": [
    "3.5. Group values of calendar_rdd by millennium (use the 2000 value for grouping)."
   ]
  },
  {
   "cell_type": "code",
   "execution_count": 81,
   "id": "a5cdb944-aadf-4300-8e57-3fc9c70d5d0f",
   "metadata": {},
   "outputs": [
    {
     "name": "stdout",
     "output_type": "stream",
     "text": [
      "Millennium Grouped RDD:\n",
      "1000 : [1970, 1971, 1972, 1973, 1974, 1975, 1976, 1977, 1978, 1979, 1980, 1981, 1982, 1983, 1984, 1985, 1986, 1987, 1988, 1989, 1990, 1991, 1992, 1993, 1994, 1995, 1996, 1997, 1998, 1999]\n",
      "2000 : [2000, 2001, 2002, 2003, 2004, 2005, 2006, 2007, 2008, 2009, 2010, 2011, 2012, 2013, 2014, 2015, 2016, 2017, 2018, 2019, 2020, 2021, 2022, 2023, 2024, 2025, 2026, 2027, 2028, 2029, 2030, 2031, 2032, 2033, 2034, 2035, 2036, 2037, 2038, 2039, 2040, 2041, 2042, 2043, 2044, 2045, 2046, 2047, 2048, 2049, 2050, 2051, 2052, 2053, 2054, 2055, 2056, 2057, 2058, 2059, 2060, 2061, 2062, 2063, 2064, 2065, 2066, 2067, 2068, 2069, 2070, 2071, 2072, 2073, 2074, 2075, 2076, 2077, 2078, 2079, 2080, 2081, 2082, 2083, 2084, 2085, 2086, 2087, 2088, 2089, 2090, 2091, 2092, 2093, 2094, 2095, 2096, 2097, 2098, 2099]\n"
     ]
    }
   ],
   "source": [
    "millennium_grouped = calendar_rdd.groupBy(lambda year: (int(year) - 2000) // 1000 * 1000 + 2000)\n",
    "print(\"Millennium Grouped RDD:\")\n",
    "for key, values in millennium_grouped.collect():\n",
    "    print(key,':', list(values))"
   ]
  },
  {
   "cell_type": "markdown",
   "id": "7008b6d8-a57d-44d5-9677-1bc9f2c9c7c1",
   "metadata": {},
   "source": [
    "3.6. Imagine that mistakenly you deleted calendar_rdd using command “del calendar_rdd”. Please try to get the same data using UNION command and save it to the new_calendar_rdd."
   ]
  },
  {
   "cell_type": "code",
   "execution_count": 82,
   "id": "db3f2336-18a5-4d8c-aae4-412e821378ad",
   "metadata": {},
   "outputs": [
    {
     "name": "stdout",
     "output_type": "stream",
     "text": [
      "New Calendar RDD (Recovered): [1970, 1971, 1972, 1973, 1974, 1975, 1976, 1977, 1978, 1979, 1980, 1981, 1982, 1983, 1984, 1985, 1986, 1987, 1988, 1989, 1990, 1991, 1992, 1993, 1994, 1995, 1996, 1997, 1998, 1999, 2000, 2001, 2002, 2003, 2004, 2005, 2006, 2007, 2008, 2009, 2010, 2011, 2012, 2013, 2014, 2015, 2016, 2017, 2018, 2019, 2020, 2021, 2022, 2023, 2024, 2025, 2026, 2027, 2028, 2029, 2030, 2031, 2032, 2033, 2034, 2035, 2036, 2037, 2038, 2039, 2040, 2041, 2042, 2043, 2044, 2045, 2046, 2047, 2048, 2049, 2050, 2051, 2052, 2053, 2054, 2055, 2056, 2057, 2058, 2059, 2060, 2061, 2062, 2063, 2064, 2065, 2066, 2067, 2068, 2069, 2070, 2071, 2072, 2073, 2074, 2075, 2076, 2077, 2078, 2079, 2080, 2081, 2082, 2083, 2084, 2085, 2086, 2087, 2088, 2089, 2090, 2091, 2092, 2093, 2094, 2095, 2096, 2097, 2098, 2099]\n"
     ]
    }
   ],
   "source": [
    "new_calendar_rdd = calendar_not_leap_years_rdd.union(calendar_leap_years_rdd).sortBy(lambda year: year)\n",
    "print(\"New Calendar RDD (Recovered):\", new_calendar_rdd.collect())"
   ]
  },
  {
   "cell_type": "markdown",
   "id": "fe580936-1c60-424e-965c-1ed56dcbf484",
   "metadata": {},
   "source": [
    "3.7. You want to make sure that the UNION command above didn’t produce any duplicated data. Print count of elements of new_calendar_rdd and then a count of distinct values."
   ]
  },
  {
   "cell_type": "code",
   "execution_count": 83,
   "id": "0ab1d143-545b-4089-a160-3e449566904e",
   "metadata": {},
   "outputs": [
    {
     "name": "stdout",
     "output_type": "stream",
     "text": [
      "Count of Elements in new_calendar_rdd: 130\n",
      "Count of Distinct Values in new_calendar_rdd: 130\n"
     ]
    }
   ],
   "source": [
    "print(\"Count of Elements in new_calendar_rdd:\", new_calendar_rdd.count())\n",
    "print(\"Count of Distinct Values in new_calendar_rdd:\", new_calendar_rdd.distinct().count())"
   ]
  },
  {
   "cell_type": "markdown",
   "id": "860ef85e-dd17-4b8c-b3c4-c7c86c4881fb",
   "metadata": {},
   "source": [
    "3.8. Imagine that the time machine was created, and you are transported 1000 years ahead. Apply a map function to each element of calendar_rdd and create a calendar_rdd_future.   "
   ]
  },
  {
   "cell_type": "code",
   "execution_count": 84,
   "id": "989d3922-b6f0-48f4-9264-84c28025ca35",
   "metadata": {},
   "outputs": [
    {
     "name": "stdout",
     "output_type": "stream",
     "text": [
      "Calendar RDD (Future): [2970, 2971, 2972, 2973, 2974, 2975, 2976, 2977, 2978, 2979, 2980, 2981, 2982, 2983, 2984, 2985, 2986, 2987, 2988, 2989, 2990, 2991, 2992, 2993, 2994, 2995, 2996, 2997, 2998, 2999, 3000, 3001, 3002, 3003, 3004, 3005, 3006, 3007, 3008, 3009, 3010, 3011, 3012, 3013, 3014, 3015, 3016, 3017, 3018, 3019, 3020, 3021, 3022, 3023, 3024, 3025, 3026, 3027, 3028, 3029, 3030, 3031, 3032, 3033, 3034, 3035, 3036, 3037, 3038, 3039, 3040, 3041, 3042, 3043, 3044, 3045, 3046, 3047, 3048, 3049, 3050, 3051, 3052, 3053, 3054, 3055, 3056, 3057, 3058, 3059, 3060, 3061, 3062, 3063, 3064, 3065, 3066, 3067, 3068, 3069, 3070, 3071, 3072, 3073, 3074, 3075, 3076, 3077, 3078, 3079, 3080, 3081, 3082, 3083, 3084, 3085, 3086, 3087, 3088, 3089, 3090, 3091, 3092, 3093, 3094, 3095, 3096, 3097, 3098, 3099]\n"
     ]
    }
   ],
   "source": [
    "calendar_rdd_future = calendar_rdd.map(lambda year: year + 1000)\n",
    "print(\"Calendar RDD (Future):\", calendar_rdd_future.collect())"
   ]
  },
  {
   "cell_type": "markdown",
   "id": "64aab022-51cb-4a23-8fc0-3eed596aeaec",
   "metadata": {},
   "source": [
    "3.9. Print the statistic of calendar_rdd data (count, min, max..)"
   ]
  },
  {
   "cell_type": "code",
   "execution_count": 85,
   "id": "fcb867c1-6f4c-4ebe-b972-86527aaa969b",
   "metadata": {},
   "outputs": [
    {
     "name": "stdout",
     "output_type": "stream",
     "text": [
      "Count of Elements:130\n",
      "Minimum Year: 1970\n",
      "Maximum Year: 2099\n",
      "Sum of Years: 264485\n",
      "Mean Year: 2034.5\n",
      "Standart deviation: 37.526657191921586\n",
      "Variance: 1408.25\n",
      "Variance: 1408.25\n",
      "Histogram: ([1970.0, 1995.8, 2021.6, 2047.4, 2073.2, 2099], [26, 26, 26, 26, 26])\n",
      "Stats: (count: 130, mean: 2034.5, stdev: 37.526657191921586, max: 2099.0, min: 1970.0)\n"
     ]
    }
   ],
   "source": [
    "print(f\"Count of Elements:{calendar_rdd.count()}\")\n",
    "print(f\"Minimum Year: {calendar_rdd.min()}\")\n",
    "print(f\"Maximum Year: {calendar_rdd.max()}\")\n",
    "print(f\"Sum of Years: {calendar_rdd.sum()}\")\n",
    "print(f\"Mean Year: {calendar_rdd.mean()}\")\n",
    "print(f\"Standart deviation: {calendar_rdd.stdev()}\")\n",
    "print(f\"Variance: {calendar_rdd.variance()}\")\n",
    "print(f\"Variance: {calendar_rdd.variance()}\")\n",
    "print(f\"Histogram: {calendar_rdd.histogram(5)}\")\n",
    "print(f\"Stats: {calendar_rdd.stats()}\")"
   ]
  },
  {
   "cell_type": "code",
   "execution_count": 86,
   "id": "ac9d9eee-0822-481f-8fe8-d69ff5c63b59",
   "metadata": {},
   "outputs": [],
   "source": [
    "spark.stop()"
   ]
  },
  {
   "cell_type": "code",
   "execution_count": null,
   "id": "4e25c539-1b7a-44f5-a4e0-9b23a43050ef",
   "metadata": {},
   "outputs": [],
   "source": []
  }
 ],
 "metadata": {
  "kernelspec": {
   "display_name": "Python 3 (ipykernel)",
   "language": "python",
   "name": "python3"
  },
  "language_info": {
   "codemirror_mode": {
    "name": "ipython",
    "version": 3
   },
   "file_extension": ".py",
   "mimetype": "text/x-python",
   "name": "python",
   "nbconvert_exporter": "python",
   "pygments_lexer": "ipython3",
   "version": "3.11.5"
  }
 },
 "nbformat": 4,
 "nbformat_minor": 5
}
